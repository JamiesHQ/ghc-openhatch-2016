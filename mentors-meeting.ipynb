{
 "cells": [
  {
   "cell_type": "markdown",
   "metadata": {
    "nbpresent": {
     "id": "57b6fc09-e657-4422-b83a-982bd973f39e"
    }
   },
   "source": [
    "# \"Meet the mentors\"\n",
    "\n",
    "\n",
    "\n"
   ]
  },
  {
   "cell_type": "markdown",
   "metadata": {
    "nbpresent": {
     "id": "7f2ae88c-bcd2-4a18-a065-7c101b796bfa"
    }
   },
   "source": [
    "## Welcome\n",
    "\n",
    "Thank you"
   ]
  },
  {
   "cell_type": "markdown",
   "metadata": {
    "nbpresent": {
     "id": "f2f28965-8f2e-400a-b261-b5e9a195142e"
    }
   },
   "source": [
    "## Goals\n",
    "- Learn about Open Source\n",
    "- Create a gallery of humanitarian notebooks\n",
    "- Open Source Day 2017"
   ]
  },
  {
   "cell_type": "markdown",
   "metadata": {
    "nbpresent": {
     "id": "b6a5fbcc-9f0c-4700-9fb6-5385001f3ae4"
    }
   },
   "source": [
    "## Skills building\n",
    "\n",
    "- git as a tool\n",
    "- GitHub as a service\n",
    "- create account and SSH key\n",
    "- command line: basics (cd, mv, mkdir, etc.)\n",
    "- git basics\n",
    "- Jupyter notebooks: install, basic usage"
   ]
  },
  {
   "cell_type": "markdown",
   "metadata": {
    "nbpresent": {
     "id": "9158702c-70ca-44eb-9ff8-290d3d7eb6e5"
    }
   },
   "source": [
    "## Goals for Open Source\n",
    "- communication\n",
    "- etiquette\n",
    "- global\n",
    "- pull requests, issue trackers"
   ]
  },
  {
   "cell_type": "markdown",
   "metadata": {
    "nbpresent": {
     "id": "15035bb4-4490-45b6-9df1-8401d9b311d3"
    }
   },
   "source": [
    "## Mentor resources\n",
    "\n",
    "GitHub repo https://github.com/willingc/ghc-openhatch-2016\n",
    "\n",
    "- [README](https://github.com/willingc/ghc-openhatch-2016/blob/master/README.md)\n",
    "- [History of OpenHatch at Open Source Day](https://github.com/willingc/ghc-openhatch-2016/blob/master/history.md)\n",
    "- [Open Source Comes to Campus](https://github.com/willingc/ghc-openhatch-2016/blob/master/nextsteps.md)\n",
    "- Software Carpentry and Data Carpentry"
   ]
  },
  {
   "cell_type": "markdown",
   "metadata": {
    "nbpresent": {
     "id": "06063a42-d807-4286-8030-10ddfc23b044"
    }
   },
   "source": [
    "## Concrete tasks or objectives for the day\n",
    "\n",
    "- Introductions: brief\n",
    "- Assist with git/GitHub/Anaconda installation for Jupyter\n",
    "- Break into groups to develop Jupyter notebooks on topics of interest (Mentor help)\n",
    "    * Safety\n",
    "    * Health\n",
    "    * Education\n",
    "    * Systers remote\n",
    "- Present from the notebooks\n",
    "- Possibly help with [Binder](http://mybinder.org) for live deployment (need to check with Freeman lab)\n"
   ]
  },
  {
   "cell_type": "markdown",
   "metadata": {
    "nbpresent": {
     "id": "b1b22f3b-7645-4553-9ec9-d5acbcba3077"
    }
   },
   "source": [
    "## How could the mentors prepare to help the attendees\n",
    "\n",
    "- GitHub: send me your GitHub user name and I'll add you to the owners\n",
    "- I communicate mostly via GitHub so help keeping the GHC wiki up to date would be great\n",
    "- Download and install Anaconda\n",
    "- We'll be working in Python and possibly R\n",
    "- Take a look at NB Viewer and the Notebook Gallery\n",
    "- Take a look at Binder\n",
    "- File an issue on the repo for topics, open data sources, and suggestions"
   ]
  },
  {
   "cell_type": "markdown",
   "metadata": {
    "nbpresent": {
     "id": "550fada8-ea9d-41a7-a156-79154619ebd2"
    }
   },
   "source": [
    "## During the Hackathon\n",
    "\n",
    "- Helpers by Operating System: OS X, Linux, Windows\n",
    "- Git (2 floating helpers)\n",
    "- Anaconda on USB sticks for different OS"
   ]
  },
  {
   "cell_type": "code",
   "execution_count": null,
   "metadata": {
    "collapsed": true,
    "nbpresent": {
     "id": "f55ed09e-feea-4360-ae82-87d48640fc65"
    }
   },
   "outputs": [],
   "source": []
  },
  {
   "cell_type": "markdown",
   "metadata": {
    "nbpresent": {
     "id": "0d2f81d5-aa3a-4a77-8a9a-0b0d7c22bb6f"
    }
   },
   "source": [
    "## Plan for Presentation\n",
    "\n",
    "- Resources\n",
    "- Notebooks\n",
    "- To learn more..."
   ]
  },
  {
   "cell_type": "code",
   "execution_count": null,
   "metadata": {
    "collapsed": true,
    "nbpresent": {
     "id": "6e74a564-142f-4281-b8fd-28f0bafdc1e9"
    }
   },
   "outputs": [],
   "source": []
  }
 ],
 "metadata": {
  "anaconda-cloud": {},
  "kernelspec": {
   "display_name": "Python [default]",
   "language": "python",
   "name": "python3"
  },
  "language_info": {
   "codemirror_mode": {
    "name": "ipython",
    "version": 3
   },
   "file_extension": ".py",
   "mimetype": "text/x-python",
   "name": "python",
   "nbconvert_exporter": "python",
   "pygments_lexer": "ipython3",
   "version": "3.5.2"
  },
  "nbpresent": {
   "slides": {
    "06e1a935-2ef7-436d-927c-a7771ccca8e4": {
     "id": "06e1a935-2ef7-436d-927c-a7771ccca8e4",
     "prev": "158060db-c187-4853-b204-20691f1cfc7f",
     "regions": {
      "39ceb7c5-145a-49b8-8ab2-18d9747c9c13": {
       "attrs": {
        "height": 0.8,
        "width": 0.8,
        "x": 0.1,
        "y": 0.1
       },
       "content": {
        "cell": "b6a5fbcc-9f0c-4700-9fb6-5385001f3ae4",
        "part": "whole"
       },
       "id": "39ceb7c5-145a-49b8-8ab2-18d9747c9c13"
      }
     }
    },
    "158060db-c187-4853-b204-20691f1cfc7f": {
     "id": "158060db-c187-4853-b204-20691f1cfc7f",
     "prev": "f9b150ff-30a5-43ad-9e15-14b335670d34",
     "regions": {
      "dd0e82b7-132f-430b-bb65-841a229996c9": {
       "attrs": {
        "height": 0.8,
        "width": 0.8,
        "x": 0.1,
        "y": 0.1
       },
       "content": {
        "cell": "f2f28965-8f2e-400a-b261-b5e9a195142e",
        "part": "whole"
       },
       "id": "dd0e82b7-132f-430b-bb65-841a229996c9"
      }
     }
    },
    "2ee070cd-fd6a-453e-8f92-cc3707720d11": {
     "id": "2ee070cd-fd6a-453e-8f92-cc3707720d11",
     "prev": null,
     "regions": {
      "75e7243e-b90e-42c5-b132-27c9ed600996": {
       "attrs": {
        "height": 0.8,
        "width": 0.8,
        "x": 0.1,
        "y": 0.1
       },
       "content": {
        "cell": "57b6fc09-e657-4422-b83a-982bd973f39e",
        "part": "whole"
       },
       "id": "75e7243e-b90e-42c5-b132-27c9ed600996"
      }
     }
    },
    "3dd9cabf-4fe0-42ab-a6b5-7b764c0e576d": {
     "id": "3dd9cabf-4fe0-42ab-a6b5-7b764c0e576d",
     "prev": "c26efe77-a176-4d62-a713-d118a0d4710b",
     "regions": {
      "6e7879cd-adaa-441d-8d3f-3284e943fcf8": {
       "attrs": {
        "height": 0.8,
        "width": 0.8,
        "x": 0.1,
        "y": 0.1
       },
       "content": {
        "cell": "f55ed09e-feea-4360-ae82-87d48640fc65",
        "part": "whole"
       },
       "id": "6e7879cd-adaa-441d-8d3f-3284e943fcf8"
      }
     }
    },
    "623c1d8d-45ad-459e-8230-fd3d58b7056c": {
     "id": "623c1d8d-45ad-459e-8230-fd3d58b7056c",
     "prev": "64715d00-9db0-4ecc-82f0-cc512bdade94",
     "regions": {
      "ac298d12-dd4c-4dd7-a4b4-eec280805970": {
       "attrs": {
        "height": 0.8,
        "width": 0.8,
        "x": 0.1,
        "y": 0.1
       },
       "content": {
        "cell": "6e74a564-142f-4281-b8fd-28f0bafdc1e9",
        "part": "whole"
       },
       "id": "ac298d12-dd4c-4dd7-a4b4-eec280805970"
      }
     }
    },
    "64715d00-9db0-4ecc-82f0-cc512bdade94": {
     "id": "64715d00-9db0-4ecc-82f0-cc512bdade94",
     "prev": "3dd9cabf-4fe0-42ab-a6b5-7b764c0e576d",
     "regions": {
      "dbedff20-0b0f-4765-b4df-dbf63441ef86": {
       "attrs": {
        "height": 0.8,
        "width": 0.8,
        "x": 0.1,
        "y": 0.1
       },
       "content": {
        "cell": "0d2f81d5-aa3a-4a77-8a9a-0b0d7c22bb6f",
        "part": "whole"
       },
       "id": "dbedff20-0b0f-4765-b4df-dbf63441ef86"
      }
     }
    },
    "9b5ac33d-b983-48c4-995e-93f10636e1cf": {
     "id": "9b5ac33d-b983-48c4-995e-93f10636e1cf",
     "prev": "bcbef329-4a24-46d5-ab29-70bbd8427a35",
     "regions": {
      "6610ae98-d344-4da9-b73f-a919db98830d": {
       "attrs": {
        "height": 0.8,
        "width": 0.8,
        "x": 0.1,
        "y": 0.1
       },
       "content": {
        "cell": "b1b22f3b-7645-4553-9ec9-d5acbcba3077",
        "part": "whole"
       },
       "id": "6610ae98-d344-4da9-b73f-a919db98830d"
      }
     }
    },
    "a4e33a82-e4ba-423d-a8b8-ec97d26336dd": {
     "id": "a4e33a82-e4ba-423d-a8b8-ec97d26336dd",
     "prev": "b77edcc6-fa7f-48ba-bd7d-e3eb9dfbe7f3",
     "regions": {
      "1cf02046-372b-4e4d-8b3f-37202396c5e2": {
       "attrs": {
        "height": 0.8,
        "width": 0.8,
        "x": 0.1,
        "y": 0.1
       },
       "content": {
        "cell": "15035bb4-4490-45b6-9df1-8401d9b311d3",
        "part": "whole"
       },
       "id": "1cf02046-372b-4e4d-8b3f-37202396c5e2"
      }
     }
    },
    "b77edcc6-fa7f-48ba-bd7d-e3eb9dfbe7f3": {
     "id": "b77edcc6-fa7f-48ba-bd7d-e3eb9dfbe7f3",
     "prev": "06e1a935-2ef7-436d-927c-a7771ccca8e4",
     "regions": {
      "df947cd8-7b50-482c-9ece-5622b688501e": {
       "attrs": {
        "height": 0.8,
        "width": 0.8,
        "x": 0.1,
        "y": 0.1
       },
       "content": {
        "cell": "9158702c-70ca-44eb-9ff8-290d3d7eb6e5",
        "part": "whole"
       },
       "id": "df947cd8-7b50-482c-9ece-5622b688501e"
      }
     }
    },
    "bcbef329-4a24-46d5-ab29-70bbd8427a35": {
     "id": "bcbef329-4a24-46d5-ab29-70bbd8427a35",
     "prev": "a4e33a82-e4ba-423d-a8b8-ec97d26336dd",
     "regions": {
      "63bbe1c6-b832-41df-ac71-93b743c3e120": {
       "attrs": {
        "height": 0.8,
        "width": 0.8,
        "x": 0.1,
        "y": 0.1
       },
       "content": {
        "cell": "06063a42-d807-4286-8030-10ddfc23b044",
        "part": "whole"
       },
       "id": "63bbe1c6-b832-41df-ac71-93b743c3e120"
      }
     }
    },
    "c26efe77-a176-4d62-a713-d118a0d4710b": {
     "id": "c26efe77-a176-4d62-a713-d118a0d4710b",
     "prev": "9b5ac33d-b983-48c4-995e-93f10636e1cf",
     "regions": {
      "d453673f-04be-4e4d-930b-107252b338f0": {
       "attrs": {
        "height": 0.8,
        "width": 0.8,
        "x": 0.1,
        "y": 0.1
       },
       "content": {
        "cell": "550fada8-ea9d-41a7-a156-79154619ebd2",
        "part": "whole"
       },
       "id": "d453673f-04be-4e4d-930b-107252b338f0"
      }
     }
    },
    "f9b150ff-30a5-43ad-9e15-14b335670d34": {
     "id": "f9b150ff-30a5-43ad-9e15-14b335670d34",
     "prev": "2ee070cd-fd6a-453e-8f92-cc3707720d11",
     "regions": {
      "fd6ffe93-2d69-45b8-b8ff-da20fed19ea2": {
       "attrs": {
        "height": 0.8,
        "width": 0.8,
        "x": 0.1,
        "y": 0.1
       },
       "content": {
        "cell": "7f2ae88c-bcd2-4a18-a065-7c101b796bfa",
        "part": "whole"
       },
       "id": "fd6ffe93-2d69-45b8-b8ff-da20fed19ea2"
      }
     }
    }
   },
   "themes": {
    "default": "d738650f-ad85-4e37-a65c-344c0c6cc9c0",
    "theme": {
     "d738650f-ad85-4e37-a65c-344c0c6cc9c0": {
      "backgrounds": {
       "dc7afa04-bf90-40b1-82a5-726e3cff5267": {
        "background-color": "31af15d2-7e15-44c5-ab5e-e04b16a89eff",
        "id": "dc7afa04-bf90-40b1-82a5-726e3cff5267"
       }
      },
      "id": "d738650f-ad85-4e37-a65c-344c0c6cc9c0",
      "palette": {
       "19cc588f-0593-49c9-9f4b-e4d7cc113b1c": {
        "id": "19cc588f-0593-49c9-9f4b-e4d7cc113b1c",
        "rgb": [
         252,
         252,
         252
        ]
       },
       "31af15d2-7e15-44c5-ab5e-e04b16a89eff": {
        "id": "31af15d2-7e15-44c5-ab5e-e04b16a89eff",
        "rgb": [
         68,
         68,
         68
        ]
       },
       "50f92c45-a630-455b-aec3-788680ec7410": {
        "id": "50f92c45-a630-455b-aec3-788680ec7410",
        "rgb": [
         197,
         226,
         245
        ]
       },
       "c5cc3653-2ee1-402a-aba2-7caae1da4f6c": {
        "id": "c5cc3653-2ee1-402a-aba2-7caae1da4f6c",
        "rgb": [
         43,
         126,
         184
        ]
       },
       "efa7f048-9acb-414c-8b04-a26811511a21": {
        "id": "efa7f048-9acb-414c-8b04-a26811511a21",
        "rgb": [
         25.118061674008803,
         73.60176211453744,
         107.4819383259912
        ]
       }
      },
      "rules": {
       "a": {
        "color": "19cc588f-0593-49c9-9f4b-e4d7cc113b1c"
       },
       "blockquote": {
        "color": "50f92c45-a630-455b-aec3-788680ec7410",
        "font-size": 3
       },
       "code": {
        "font-family": "Anonymous Pro"
       },
       "h1": {
        "color": "19cc588f-0593-49c9-9f4b-e4d7cc113b1c",
        "font-family": "Merriweather",
        "font-size": 8
       },
       "h2": {
        "color": "19cc588f-0593-49c9-9f4b-e4d7cc113b1c",
        "font-family": "Merriweather",
        "font-size": 6
       },
       "h3": {
        "color": "50f92c45-a630-455b-aec3-788680ec7410",
        "font-family": "Lato",
        "font-size": 5.5
       },
       "h4": {
        "color": "c5cc3653-2ee1-402a-aba2-7caae1da4f6c",
        "font-family": "Lato",
        "font-size": 5
       },
       "h5": {
        "font-family": "Lato"
       },
       "h6": {
        "font-family": "Lato"
       },
       "h7": {
        "font-family": "Lato"
       },
       "li": {
        "color": "50f92c45-a630-455b-aec3-788680ec7410",
        "font-size": 3.25
       },
       "pre": {
        "font-family": "Anonymous Pro",
        "font-size": 4
       }
      },
      "text-base": {
       "color": "19cc588f-0593-49c9-9f4b-e4d7cc113b1c",
       "font-family": "Lato",
       "font-size": 4
      }
     }
    }
   }
  }
 },
 "nbformat": 4,
 "nbformat_minor": 1
}
